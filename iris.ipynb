{
 "cells": [
  {
   "cell_type": "code",
   "execution_count": 42,
   "id": "03893efd",
   "metadata": {},
   "outputs": [],
   "source": [
    "import  pandas as pd\n",
    "iris=pd.read_csv(\"D:\\Imarti Excel files\\Iris.csv\")"
   ]
  },
  {
   "cell_type": "code",
   "execution_count": 43,
   "id": "69945b6c",
   "metadata": {},
   "outputs": [
    {
     "data": {
      "text/html": [
       "<div>\n",
       "<style scoped>\n",
       "    .dataframe tbody tr th:only-of-type {\n",
       "        vertical-align: middle;\n",
       "    }\n",
       "\n",
       "    .dataframe tbody tr th {\n",
       "        vertical-align: top;\n",
       "    }\n",
       "\n",
       "    .dataframe thead th {\n",
       "        text-align: right;\n",
       "    }\n",
       "</style>\n",
       "<table border=\"1\" class=\"dataframe\">\n",
       "  <thead>\n",
       "    <tr style=\"text-align: right;\">\n",
       "      <th></th>\n",
       "      <th>Id</th>\n",
       "      <th>SepalLengthCm</th>\n",
       "      <th>SepalWidthCm</th>\n",
       "      <th>PetalLengthCm</th>\n",
       "      <th>PetalWidthCm</th>\n",
       "      <th>Species</th>\n",
       "    </tr>\n",
       "  </thead>\n",
       "  <tbody>\n",
       "    <tr>\n",
       "      <th>0</th>\n",
       "      <td>1</td>\n",
       "      <td>5.1</td>\n",
       "      <td>3.5</td>\n",
       "      <td>1.4</td>\n",
       "      <td>0.2</td>\n",
       "      <td>Iris-setosa</td>\n",
       "    </tr>\n",
       "    <tr>\n",
       "      <th>1</th>\n",
       "      <td>2</td>\n",
       "      <td>4.9</td>\n",
       "      <td>3.0</td>\n",
       "      <td>1.4</td>\n",
       "      <td>0.2</td>\n",
       "      <td>Iris-setosa</td>\n",
       "    </tr>\n",
       "    <tr>\n",
       "      <th>2</th>\n",
       "      <td>3</td>\n",
       "      <td>4.7</td>\n",
       "      <td>3.2</td>\n",
       "      <td>1.3</td>\n",
       "      <td>0.2</td>\n",
       "      <td>Iris-setosa</td>\n",
       "    </tr>\n",
       "    <tr>\n",
       "      <th>3</th>\n",
       "      <td>4</td>\n",
       "      <td>4.6</td>\n",
       "      <td>3.1</td>\n",
       "      <td>1.5</td>\n",
       "      <td>0.2</td>\n",
       "      <td>Iris-setosa</td>\n",
       "    </tr>\n",
       "    <tr>\n",
       "      <th>4</th>\n",
       "      <td>5</td>\n",
       "      <td>5.0</td>\n",
       "      <td>3.6</td>\n",
       "      <td>1.4</td>\n",
       "      <td>0.2</td>\n",
       "      <td>Iris-setosa</td>\n",
       "    </tr>\n",
       "  </tbody>\n",
       "</table>\n",
       "</div>"
      ],
      "text/plain": [
       "   Id  SepalLengthCm  SepalWidthCm  PetalLengthCm  PetalWidthCm      Species\n",
       "0   1            5.1           3.5            1.4           0.2  Iris-setosa\n",
       "1   2            4.9           3.0            1.4           0.2  Iris-setosa\n",
       "2   3            4.7           3.2            1.3           0.2  Iris-setosa\n",
       "3   4            4.6           3.1            1.5           0.2  Iris-setosa\n",
       "4   5            5.0           3.6            1.4           0.2  Iris-setosa"
      ]
     },
     "execution_count": 43,
     "metadata": {},
     "output_type": "execute_result"
    }
   ],
   "source": [
    "iris.head()"
   ]
  },
  {
   "cell_type": "code",
   "execution_count": 44,
   "id": "26dfb24c",
   "metadata": {},
   "outputs": [],
   "source": [
    "y=iris.Species\n",
    "x=iris.drop([\"Species\",\"Id\"],axis=1)"
   ]
  },
  {
   "cell_type": "code",
   "execution_count": 45,
   "id": "364a02af",
   "metadata": {},
   "outputs": [
    {
     "data": {
      "text/plain": [
       "(150, 4)"
      ]
     },
     "execution_count": 45,
     "metadata": {},
     "output_type": "execute_result"
    }
   ],
   "source": [
    "x.shape"
   ]
  },
  {
   "cell_type": "code",
   "execution_count": 46,
   "id": "d816d3f8",
   "metadata": {},
   "outputs": [
    {
     "data": {
      "text/plain": [
       "(150,)"
      ]
     },
     "execution_count": 46,
     "metadata": {},
     "output_type": "execute_result"
    }
   ],
   "source": [
    "y.shape"
   ]
  },
  {
   "cell_type": "code",
   "execution_count": 47,
   "id": "d5bb9da0",
   "metadata": {},
   "outputs": [],
   "source": [
    "from sklearn import preprocessing\n",
    "label_encoder = preprocessing.LabelEncoder() \n",
    "y= label_encoder.fit_transform(y)"
   ]
  },
  {
   "cell_type": "code",
   "execution_count": 48,
   "id": "a282b3ab",
   "metadata": {},
   "outputs": [],
   "source": [
    "from keras.models import Sequential"
   ]
  },
  {
   "cell_type": "code",
   "execution_count": 49,
   "id": "2cca221b",
   "metadata": {},
   "outputs": [],
   "source": [
    "from tensorflow.keras import layers"
   ]
  },
  {
   "cell_type": "code",
   "execution_count": 50,
   "id": "e64ac362",
   "metadata": {},
   "outputs": [],
   "source": [
    "model=Sequential()\n",
    "model.add(layers.Dense(8,input_dim=4,activation='relu'))\n",
    "model.add(layers.Dense(32,activation='relu'))#hidden\n",
    "model.add(layers.Dense(3,activation='relu'))#outer"
   ]
  },
  {
   "cell_type": "code",
   "execution_count": 51,
   "id": "6c2f054e",
   "metadata": {},
   "outputs": [],
   "source": [
    "model.compile(loss='binary_crossentropy',optimizer='adam',metrics=['accuracy',\"mse\"])"
   ]
  },
  {
   "cell_type": "code",
   "execution_count": 52,
   "id": "3d001a16",
   "metadata": {},
   "outputs": [
    {
     "name": "stdout",
     "output_type": "stream",
     "text": [
      "Epoch 1/50\n",
      "5/5 [==============================] - 1s 6ms/step - loss: 4.6866 - accuracy: 0.3333 - mse: 1.2470\n",
      "Epoch 2/50\n",
      "5/5 [==============================] - 0s 1ms/step - loss: 3.5973 - accuracy: 0.3333 - mse: 1.1739\n",
      "Epoch 3/50\n",
      "5/5 [==============================] - 0s 2ms/step - loss: 3.5361 - accuracy: 0.3333 - mse: 1.1644\n",
      "Epoch 4/50\n",
      "5/5 [==============================] - 0s 3ms/step - loss: 3.5280 - accuracy: 0.3333 - mse: 1.1720\n",
      "Epoch 5/50\n",
      "5/5 [==============================] - 0s 4ms/step - loss: 3.5157 - accuracy: 0.3333 - mse: 1.1866\n",
      "Epoch 6/50\n",
      "5/5 [==============================] - 0s 4ms/step - loss: 3.5016 - accuracy: 0.3333 - mse: 1.2007\n",
      "Epoch 7/50\n",
      "5/5 [==============================] - 0s 3ms/step - loss: 3.4911 - accuracy: 0.3333 - mse: 1.2153\n",
      "Epoch 8/50\n",
      "5/5 [==============================] - 0s 2ms/step - loss: 3.4832 - accuracy: 0.3333 - mse: 1.2298\n",
      "Epoch 9/50\n",
      "5/5 [==============================] - 0s 2ms/step - loss: 3.4759 - accuracy: 0.3333 - mse: 1.2434\n",
      "Epoch 10/50\n",
      "5/5 [==============================] - 0s 3ms/step - loss: 3.4712 - accuracy: 0.3333 - mse: 1.2524\n",
      "Epoch 11/50\n",
      "5/5 [==============================] - 0s 3ms/step - loss: 3.4684 - accuracy: 0.3333 - mse: 1.2538\n",
      "Epoch 12/50\n",
      "5/5 [==============================] - 0s 2ms/step - loss: 3.4653 - accuracy: 0.3333 - mse: 1.2470\n",
      "Epoch 13/50\n",
      "5/5 [==============================] - 0s 3ms/step - loss: 3.4630 - accuracy: 0.3333 - mse: 1.2368\n",
      "Epoch 14/50\n",
      "5/5 [==============================] - 0s 3ms/step - loss: 3.4618 - accuracy: 0.3333 - mse: 1.2293\n",
      "Epoch 15/50\n",
      "5/5 [==============================] - 0s 3ms/step - loss: 3.4600 - accuracy: 0.3333 - mse: 1.2260\n",
      "Epoch 16/50\n",
      "5/5 [==============================] - 0s 4ms/step - loss: 3.4583 - accuracy: 0.3333 - mse: 1.2269\n",
      "Epoch 17/50\n",
      "5/5 [==============================] - 0s 3ms/step - loss: 3.4571 - accuracy: 0.3333 - mse: 1.2260\n",
      "Epoch 18/50\n",
      "5/5 [==============================] - 0s 3ms/step - loss: 3.4557 - accuracy: 0.3333 - mse: 1.2214\n",
      "Epoch 19/50\n",
      "5/5 [==============================] - 0s 4ms/step - loss: 3.4547 - accuracy: 0.3333 - mse: 1.2169\n",
      "Epoch 20/50\n",
      "5/5 [==============================] - 0s 4ms/step - loss: 3.4541 - accuracy: 0.3333 - mse: 1.2139\n",
      "Epoch 21/50\n",
      "5/5 [==============================] - 0s 3ms/step - loss: 3.4533 - accuracy: 0.3333 - mse: 1.2132\n",
      "Epoch 22/50\n",
      "5/5 [==============================] - 0s 2ms/step - loss: 3.4527 - accuracy: 0.3333 - mse: 1.2135\n",
      "Epoch 23/50\n",
      "5/5 [==============================] - 0s 4ms/step - loss: 3.4523 - accuracy: 0.3333 - mse: 1.2126\n",
      "Epoch 24/50\n",
      "5/5 [==============================] - 0s 3ms/step - loss: 3.4519 - accuracy: 0.3333 - mse: 1.2101\n",
      "Epoch 25/50\n",
      "5/5 [==============================] - 0s 3ms/step - loss: 3.4516 - accuracy: 0.3333 - mse: 1.2088\n",
      "Epoch 26/50\n",
      "5/5 [==============================] - 0s 3ms/step - loss: 3.4513 - accuracy: 0.3333 - mse: 1.2090\n",
      "Epoch 27/50\n",
      "5/5 [==============================] - 0s 3ms/step - loss: 3.4511 - accuracy: 0.3333 - mse: 1.2093\n",
      "Epoch 28/50\n",
      "5/5 [==============================] - 0s 2ms/step - loss: 3.4509 - accuracy: 0.3333 - mse: 1.2087\n",
      "Epoch 29/50\n",
      "5/5 [==============================] - 0s 4ms/step - loss: 3.4507 - accuracy: 0.3333 - mse: 1.2078\n",
      "Epoch 30/50\n",
      "5/5 [==============================] - 0s 3ms/step - loss: 3.4506 - accuracy: 0.3333 - mse: 1.2078\n",
      "Epoch 31/50\n",
      "5/5 [==============================] - 0s 2ms/step - loss: 3.4505 - accuracy: 0.3333 - mse: 1.2082\n",
      "Epoch 32/50\n",
      "5/5 [==============================] - 0s 3ms/step - loss: 3.4504 - accuracy: 0.3333 - mse: 1.2080\n",
      "Epoch 33/50\n",
      "5/5 [==============================] - 0s 2ms/step - loss: 3.4503 - accuracy: 0.3333 - mse: 1.2077\n",
      "Epoch 34/50\n",
      "5/5 [==============================] - 0s 4ms/step - loss: 3.4502 - accuracy: 0.3333 - mse: 1.2072\n",
      "Epoch 35/50\n",
      "5/5 [==============================] - 0s 2ms/step - loss: 3.4501 - accuracy: 0.3333 - mse: 1.2069\n",
      "Epoch 36/50\n",
      "5/5 [==============================] - 0s 3ms/step - loss: 3.4500 - accuracy: 0.3333 - mse: 1.2067\n",
      "Epoch 37/50\n",
      "5/5 [==============================] - 0s 4ms/step - loss: 3.4499 - accuracy: 0.3333 - mse: 1.2065\n",
      "Epoch 38/50\n",
      "5/5 [==============================] - 0s 2ms/step - loss: 3.4498 - accuracy: 0.3333 - mse: 1.2060\n",
      "Epoch 39/50\n",
      "5/5 [==============================] - 0s 3ms/step - loss: 3.4498 - accuracy: 0.3333 - mse: 1.2054\n",
      "Epoch 40/50\n",
      "5/5 [==============================] - 0s 3ms/step - loss: 3.4497 - accuracy: 0.3333 - mse: 1.2057\n",
      "Epoch 41/50\n",
      "5/5 [==============================] - 0s 2ms/step - loss: 3.4496 - accuracy: 0.3333 - mse: 1.2061\n",
      "Epoch 42/50\n",
      "5/5 [==============================] - 0s 3ms/step - loss: 3.4495 - accuracy: 0.3333 - mse: 1.2064\n",
      "Epoch 43/50\n",
      "5/5 [==============================] - 0s 3ms/step - loss: 3.4494 - accuracy: 0.3333 - mse: 1.2061\n",
      "Epoch 44/50\n",
      "5/5 [==============================] - 0s 2ms/step - loss: 3.4494 - accuracy: 0.3333 - mse: 1.2051\n",
      "Epoch 45/50\n",
      "5/5 [==============================] - 0s 3ms/step - loss: 3.4493 - accuracy: 0.3333 - mse: 1.2055\n",
      "Epoch 46/50\n",
      "5/5 [==============================] - 0s 3ms/step - loss: 3.4492 - accuracy: 0.3333 - mse: 1.2063\n",
      "Epoch 47/50\n",
      "5/5 [==============================] - 0s 4ms/step - loss: 3.4491 - accuracy: 0.3333 - mse: 1.2063\n",
      "Epoch 48/50\n",
      "5/5 [==============================] - 0s 4ms/step - loss: 3.4491 - accuracy: 0.3333 - mse: 1.2060\n",
      "Epoch 49/50\n",
      "5/5 [==============================] - 0s 4ms/step - loss: 3.4490 - accuracy: 0.3333 - mse: 1.2057\n",
      "Epoch 50/50\n",
      "5/5 [==============================] - 0s 2ms/step - loss: 3.4489 - accuracy: 0.3333 - mse: 1.2056\n"
     ]
    },
    {
     "data": {
      "text/plain": [
       "<keras.callbacks.History at 0x20193d8c8b0>"
      ]
     },
     "execution_count": 52,
     "metadata": {},
     "output_type": "execute_result"
    }
   ],
   "source": [
    "model.fit(x,y,epochs=50)"
   ]
  },
  {
   "cell_type": "code",
   "execution_count": 27,
   "id": "02c0f47b",
   "metadata": {},
   "outputs": [
    {
     "name": "stdout",
     "output_type": "stream",
     "text": [
      "5/5 [==============================] - 0s 4ms/step - loss: 1.7529 - accuracy: 0.6800 - mse: 0.6432    \n"
     ]
    },
    {
     "data": {
      "text/plain": [
       "[1.7529300451278687, 0.6800000071525574, 0.643203854560852]"
      ]
     },
     "execution_count": 27,
     "metadata": {},
     "output_type": "execute_result"
    }
   ],
   "source": [
    "model.evaluate(x,y)"
   ]
  },
  {
   "cell_type": "code",
   "execution_count": null,
   "id": "a552a563",
   "metadata": {},
   "outputs": [],
   "source": []
  }
 ],
 "metadata": {
  "kernelspec": {
   "display_name": "Python 3 (ipykernel)",
   "language": "python",
   "name": "python3"
  },
  "language_info": {
   "codemirror_mode": {
    "name": "ipython",
    "version": 3
   },
   "file_extension": ".py",
   "mimetype": "text/x-python",
   "name": "python",
   "nbconvert_exporter": "python",
   "pygments_lexer": "ipython3",
   "version": "3.9.7"
  }
 },
 "nbformat": 4,
 "nbformat_minor": 5
}
